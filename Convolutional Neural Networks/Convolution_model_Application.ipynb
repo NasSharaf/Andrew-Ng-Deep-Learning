{
 "cells": [
  {
   "cell_type": "markdown",
   "metadata": {},
   "source": [
    "# Convolutional Neural Networks: Application\n",
    "\n",
    "Welcome to Course 4's second assignment! In this notebook, you will:\n",
    "\n",
    "- Create a mood classifer using the TF Keras Sequential API\n",
    "- Build a ConvNet to identify sign language digits using the TF Keras Functional API\n",
    "\n",
    "**After this assignment you will be able to:**\n",
    "\n",
    "- Build and train a ConvNet in TensorFlow for a __binary__ classification problem\n",
    "- Build and train a ConvNet in TensorFlow for a __multiclass__ classification problem\n",
    "- Explain different use cases for the Sequential and Functional APIs\n",
    "\n",
    "To complete this assignment, you should already be familiar with TensorFlow. If you are not, please refer back to the **TensorFlow Tutorial** of the third week of Course 2 (\"**Improving deep neural networks**\").\n",
    "\n",
    "## Important Note on Submission to the AutoGrader\n",
    "\n",
    "Before submitting your assignment to the AutoGrader, please make sure you are not doing the following:\n",
    "\n",
    "1. You have not added any _extra_ `print` statement(s) in the assignment.\n",
    "2. You have not added any _extra_ code cell(s) in the assignment.\n",
    "3. You have not changed any of the function parameters.\n",
    "4. You are not using any global variables inside your graded exercises. Unless specifically instructed to do so, please refrain from it and use the local variables instead.\n",
    "5. You are not changing the assignment code where it is not required, like creating _extra_ variables.\n",
    "\n",
    "If you do any of the following, you will get something like, `Grader not found` (or similarly unexpected) error upon submitting your assignment. Before asking for help/debugging the errors in your assignment, check for these first. If this is the case, and you don't remember the changes you have made, you can get a fresh copy of the assignment by following these [instructions](https://www.coursera.org/learn/convolutional-neural-networks/supplement/DS4yP/h-ow-to-refresh-your-workspace)."
   ]
  },
  {
   "cell_type": "markdown",
   "metadata": {},
   "source": [
    "## Table of Contents\n",
    "\n",
    "- [1 - Packages](#1)\n",
    "    - [1.1 - Load the Data and Split the Data into Train/Test Sets](#1-1)\n",
    "- [2 - Layers in TF Keras](#2)\n",
    "- [3 - The Sequential API](#3)\n",
    "    - [3.1 - Create the Sequential Model](#3-1)\n",
    "        - [Exercise 1 - happyModel](#ex-1)\n",
    "    - [3.2 - Train and Evaluate the Model](#3-2)\n",
    "- [4 - The Functional API](#4)\n",
    "    - [4.1 - Load the SIGNS Dataset](#4-1)\n",
    "    - [4.2 - Split the Data into Train/Test Sets](#4-2)\n",
    "    - [4.3 - Forward Propagation](#4-3)\n",
    "        - [Exercise 2 - convolutional_model](#ex-2)\n",
    "    - [4.4 - Train the Model](#4-4)\n",
    "- [5 - History Object](#5)\n",
    "- [6 - Bibliography](#6)"
   ]
  },
  {
   "cell_type": "markdown",
   "metadata": {},
   "source": [
    "<a name='1'></a>\n",
    "## 1 - Packages\n",
    "\n",
    "As usual, begin by loading in the packages."
   ]
  },
  {
   "cell_type": "code",
   "execution_count": 1,
   "metadata": {},
   "outputs": [],
   "source": [
    "import math\n",
    "import numpy as np\n",
    "import h5py\n",
    "import matplotlib.pyplot as plt\n",
    "from matplotlib.pyplot import imread\n",
    "import scipy\n",
    "from PIL import Image\n",
    "import pandas as pd\n",
    "import tensorflow as tf\n",
    "import tensorflow.keras.layers as tfl\n",
    "from tensorflow.python.framework import ops\n",
    "from cnn_utils import *\n",
    "from test_utils import summary, comparator\n",
    "\n",
    "%matplotlib inline\n",
    "np.random.seed(1)"
   ]
  },
  {
   "cell_type": "markdown",
   "metadata": {},
   "source": [
    "<a name='1-1'></a>\n",
    "### 1.1 - Load the Data and Split the Data into Train/Test Sets\n",
    "\n",
    "You'll be using the Happy House dataset for this part of the assignment, which contains images of peoples' faces. Your task will be to build a ConvNet that determines whether the people in the images are smiling or not -- because they only get to enter the house if they're smiling!  "
   ]
  },
  {
   "cell_type": "code",
   "execution_count": 2,
   "metadata": {},
   "outputs": [
    {
     "name": "stdout",
     "output_type": "stream",
     "text": [
      "number of training examples = 600\n",
      "number of test examples = 150\n",
      "X_train shape: (600, 64, 64, 3)\n",
      "Y_train shape: (600, 1)\n",
      "X_test shape: (150, 64, 64, 3)\n",
      "Y_test shape: (150, 1)\n"
     ]
    }
   ],
   "source": [
    "X_train_orig, Y_train_orig, X_test_orig, Y_test_orig, classes = load_happy_dataset()\n",
    "\n",
    "# Normalize image vectors\n",
    "X_train = X_train_orig/255.\n",
    "X_test = X_test_orig/255.\n",
    "\n",
    "# Reshape\n",
    "Y_train = Y_train_orig.T\n",
    "Y_test = Y_test_orig.T\n",
    "\n",
    "print (\"number of training examples = \" + str(X_train.shape[0]))\n",
    "print (\"number of test examples = \" + str(X_test.shape[0]))\n",
    "print (\"X_train shape: \" + str(X_train.shape))\n",
    "print (\"Y_train shape: \" + str(Y_train.shape))\n",
    "print (\"X_test shape: \" + str(X_test.shape))\n",
    "print (\"Y_test shape: \" + str(Y_test.shape))"
   ]
  },
  {
   "cell_type": "markdown",
   "metadata": {},
   "source": [
    "You can display the images contained in the dataset. Images are **64x64** pixels in RGB format (3 channels)."
   ]
  },
  {
   "cell_type": "code",
   "execution_count": 3,
   "metadata": {},
   "outputs": [
    {
     "data": {
      "image/png": "[encoded data removed]",
      "text/plain": [
       "<Figure size 432x288 with 1 Axes>"
      ]
     },
     "metadata": {
      "needs_background": "light"
     },
     "output_type": "display_data"
    }
   ],
   "source": [
    "index = 124\n",
    "plt.imshow(X_train_orig[index]) #display sample training image\n",
    "plt.show()"
   ]
  },
  {
   "cell_type": "markdown",
   "metadata": {},
   "source": [
    "<a name='2'></a>\n",
    "## 2 - Layers in TF Keras \n",
    "\n",
    "In the previous assignment, you created layers manually in numpy. In TF Keras, you don't have to write code directly to create layers. Rather, TF Keras has pre-defined layers you can use. \n",
    "\n",
    "When you create a layer in TF Keras, you are creating a function that takes some input and transforms it into an output you can reuse later. Nice and easy! "
   ]
  },
  {
   "cell_type": "markdown",
   "metadata": {},
   "source": [
    "<a name='3'></a>\n",
    "## 3 - The Sequential API\n",
    "\n",
    "In the previous assignment, you built helper functions using `numpy` to understand the mechanics behind convolutional neural networks. Most practical applications of deep learning today are built using programming frameworks, which have many built-in functions you can simply call. Keras is a high-level abstraction built on top of TensorFlow, which allows for even more simplified and optimized model creation and training. \n",
    "\n",
    "For the first part of this assignment, you'll create a model using TF Keras' Sequential API, which allows you to build layer by layer, and is ideal for building models where each layer has **exactly one** input tensor and **one** output tensor. \n",
    "\n",
    "As you'll see, using the Sequential API is simple and straightforward, but is only appropriate for simpler, more straightforward tasks. Later in this notebook you'll spend some time building with a more flexible, powerful alternative: the Functional API. \n",
    " "
   ]
  },
  {
   "cell_type": "markdown",
   "metadata": {},
   "source": [
    "<a name='3-1'></a>\n",
    "### 3.1 - Create the Sequential Model\n",
    "\n",
    "As mentioned earlier, the TensorFlow Keras Sequential API can be used to build simple models with layer operations that proceed in a sequential order. \n",
    "\n",
    "You can also add layers incrementally to a Sequential model with the `.add()` method, or remove them using the `.pop()` method, much like you would in a regular Python list.\n",
    "\n",
    "Actually, you can think of a Sequential model as behaving like a list of layers. Like Python lists, Sequential layers are ordered, and the order in which they are specified matters.  If your model is non-linear or contains layers with multiple inputs or outputs, a Sequential model wouldn't be the right choice!\n",
    "\n",
    "For any layer construction in Keras, you'll need to specify the input shape in advance. This is because in Keras, the shape of the weights is based on the shape of the inputs. The weights are only created when the model first sees some input data. Sequential models can be created by passing a list of layers to the Sequential constructor, like you will do in the next assignment.\n",
    "\n",
    "<a name='ex-1'></a>\n",
    "### Exercise 1 - happyModel\n",
    "\n",
    "Implement the `happyModel` function below to build the following model: `ZEROPAD2D -> CONV2D -> BATCHNORM -> RELU -> MAXPOOL -> FLATTEN -> DENSE`. Take help from [tf.keras.layers](https://www.tensorflow.org/api_docs/python/tf/keras/layers) \n",
    "\n",
    "Also, plug in the following parameters for all the steps:\n",
    "\n",
    " - [ZeroPadding2D](https://www.tensorflow.org/api_docs/python/tf/keras/layers/ZeroPadding2D): padding 3, input shape 64 x 64 x 3\n",
    " - [Conv2D](https://www.tensorflow.org/api_docs/python/tf/keras/layers/Conv2D): Use 32 7x7 filters, stride 1\n",
    " - [BatchNormalization](https://www.tensorflow.org/api_docs/python/tf/keras/layers/BatchNormalization): for axis 3\n",
    " - [ReLU](https://www.tensorflow.org/api_docs/python/tf/keras/layers/ReLU)\n",
    " - [MaxPool2D](https://www.tensorflow.org/api_docs/python/tf/keras/layers/MaxPool2D): Using default parameters\n",
    " - [Flatten](https://www.tensorflow.org/api_docs/python/tf/keras/layers/Flatten) the previous output.\n",
    " - Fully-connected ([Dense](https://www.tensorflow.org/api_docs/python/tf/keras/layers/Dense)) layer: Apply a fully connected layer with 1 neuron and a sigmoid activation. \n",
    " \n",
    " \n",
    " **Hint:**\n",
    " \n",
    " Use **tfl** as shorthand for **tensorflow.keras.layers**"
   ]
  },
  {
   "cell_type": "code",
   "execution_count": 4,
   "metadata": {
    "deletable": false,
    "nbgrader": {
     "cell_type": "code",
     "checksum": "95d28b191f257bdd5b70c7b8952559d5",
     "grade": false,
     "grade_id": "cell-0e56d3fc28b69aec",
     "locked": false,
     "schema_version": 3,
     "solution": true,
     "task": false
    }
   },
   "outputs": [],
   "source": [
    "# GRADED FUNCTION: happyModel\n",
    "\n",
    "def happyModel():\n",
    "    \"\"\"\n",
    "    Implements the forward propagation for the binary classification model:\n",
    "    ZEROPAD2D -> CONV2D -> BATCHNORM -> RELU -> MAXPOOL -> FLATTEN -> DENSE\n",
    "    \n",
    "    Note that for simplicity and grading purposes, you'll hard-code all the values\n",
    "    such as the stride and kernel (filter) sizes. \n",
    "    Normally, functions should take these values as function parameters.\n",
    "    \n",
    "    Arguments:\n",
    "    None\n",
    "\n",
    "    Returns:\n",
    "    model -- TF Keras model (object containing the information for the entire training process) \n",
    "    \"\"\"\n",
    "    model = tf.keras.Sequential([\n",
    "            ## ZeroPadding2D with padding 3, input shape of 64 x 64 x 3\n",
    "            tfl.ZeroPadding2D(padding=(3, 3), input_shape=(64, 64, 3)),\n",
    "            ## Conv2D with 32 7x7 filters and stride of 1\n",
    "            tfl.Conv2D(32, (7,7)),\n",
    "            ## BatchNormalization for axis 3\n",
    "            tfl.BatchNormalization(axis=-1),\n",
    "            ## ReLU\n",
    "            tfl.ReLU(),\n",
    "            ## Max Pooling 2D with default parameters\n",
    "            tfl.MaxPool2D(),\n",
    "            ## Flatten layer\n",
    "            tfl.Flatten(),\n",
    "            ## Dense layer with 1 unit for output & 'sigmoid' activation\n",
    "            tfl.Dense(1, activation='sigmoid')\n",
    "        ])\n",
    "    \n",
    "    return model"
   ]
  },
  {
   "cell_type": "code",
   "execution_count": 5,
   "metadata": {
    "deletable": false,
    "editable": false,
    "nbgrader": {
     "cell_type": "code",
     "checksum": "8d3575c950e2e78149be2d05d671c80d",
     "grade": true,
     "grade_id": "cell-e3e1046e5c33d775",
     "locked": true,
     "points": 10,
     "schema_version": 3,
     "solution": false,
     "task": false
    }
   },
   "outputs": [
    {
     "name": "stdout",
     "output_type": "stream",
     "text": [
      "['ZeroPadding2D', (None, 70, 70, 3), 0, ((3, 3), (3, 3))]\n",
      "['Conv2D', (None, 64, 64, 32), 4736, 'valid', 'linear', 'GlorotUniform']\n",
      "['BatchNormalization', (None, 64, 64, 32), 128]\n",
      "['ReLU', (None, 64, 64, 32), 0]\n",
      "['MaxPooling2D', (None, 32, 32, 32), 0, (2, 2), (2, 2), 'valid']\n",
      "['Flatten', (None, 32768), 0]\n",
      "['Dense', (None, 1), 32769, 'sigmoid']\n",
      "\u001b[32mAll tests passed!\u001b[0m\n"
     ]
    }
   ],
   "source": [
    "happy_model = happyModel()\n",
    "# Print a summary for each layer\n",
    "for layer in summary(happy_model):\n",
    "    print(layer)\n",
    "    \n",
    "output = [['ZeroPadding2D', (None, 70, 70, 3), 0, ((3, 3), (3, 3))],\n",
    "            ['Conv2D', (None, 64, 64, 32), 4736, 'valid', 'linear', 'GlorotUniform'],\n",
    "            ['BatchNormalization', (None, 64, 64, 32), 128],\n",
    "            ['ReLU', (None, 64, 64, 32), 0],\n",
    "            ['MaxPooling2D', (None, 32, 32, 32), 0, (2, 2), (2, 2), 'valid'],\n",
    "            ['Flatten', (None, 32768), 0],\n",
    "            ['Dense', (None, 1), 32769, 'sigmoid']]\n",
    "    \n",
    "comparator(summary(happy_model), output)"
   ]
  },
  {
   "cell_type": "markdown",
   "metadata": {},
   "source": [
    "#### Expected Output:\n",
    "\n",
    "```\n",
    "['ZeroPadding2D', (None, 70, 70, 3), 0, ((3, 3), (3, 3))]\n",
    "['Conv2D', (None, 64, 64, 32), 4736, 'valid', 'linear', 'GlorotUniform']\n",
    "['BatchNormalization', (None, 64, 64, 32), 128]\n",
    "['ReLU', (None, 64, 64, 32), 0]\n",
    "['MaxPooling2D', (None, 32, 32, 32), 0, (2, 2), (2, 2), 'valid']\n",
    "['Flatten', (None, 32768), 0]\n",
    "['Dense', (None, 1), 32769, 'sigmoid']\n",
    "All tests passed!\n",
    "```"
   ]
  },
  {
   "cell_type": "markdown",
   "metadata": {},
   "source": [
    "Now that your model is created, you can compile it for training with an optimizer and loss of your choice. When the string `accuracy` is specified as a metric, the type of accuracy used will be automatically converted based on the loss function used. This is one of the many optimizations built into TensorFlow that make your life easier! If you'd like to read more on how the compiler operates, check the docs [here](https://www.tensorflow.org/api_docs/python/tf/keras/Model#compile)."
   ]
  },
  {
   "cell_type": "code",
   "execution_count": 6,
   "metadata": {},
   "outputs": [],
   "source": [
    "happy_model.compile(optimizer='adam',\n",
    "                   loss='binary_crossentropy',\n",
    "                   metrics=['accuracy'])"
   ]
  },
  {
   "cell_type": "markdown",
   "metadata": {},
   "source": [
    "It's time to check your model's parameters with the `.summary()` method. This will display the types of layers you have, the shape of the outputs, and how many parameters are in each layer. "
   ]
  },
  {
   "cell_type": "code",
   "execution_count": 7,
   "metadata": {},
   "outputs": [
    {
     "name": "stdout",
     "output_type": "stream",
     "text": [
      "Model: \"sequential\"\n",
      "_________________________________________________________________\n",
      "Layer (type)                 Output Shape              Param #   \n",
      "=================================================================\n",
      "zero_padding2d (ZeroPadding2 (None, 70, 70, 3)         0         \n",
      "_________________________________________________________________\n",
      "conv2d (Conv2D)              (None, 64, 64, 32)        4736      \n",
      "_________________________________________________________________\n",
      "batch_normalization (BatchNo (None, 64, 64, 32)        128       \n",
      "_________________________________________________________________\n",
      "re_lu (ReLU)                 (None, 64, 64, 32)        0         \n",
      "_________________________________________________________________\n",
      "max_pooling2d (MaxPooling2D) (None, 32, 32, 32)        0         \n",
      "_________________________________________________________________\n",
      "flatten (Flatten)            (None, 32768)             0         \n",
      "_________________________________________________________________\n",
      "dense (Dense)                (None, 1)                 32769     \n",
      "=================================================================\n",
      "Total params: 37,633\n",
      "Trainable params: 37,569\n",
      "Non-trainable params: 64\n",
      "_________________________________________________________________\n"
     ]
    }
   ],
   "source": [
    "happy_model.summary()"
   ]
  },
  {
   "cell_type": "markdown",
   "metadata": {},
   "source": [
    "<a name='3-2'></a>\n",
    "### 3.2 - Train and Evaluate the Model\n",
    "\n",
    "After creating the model, compiling it with your choice of optimizer and loss function, and doing a sanity check on its contents, you are now ready to build! \n",
    "\n",
    "Simply call `.fit()` to train. That's it! No need for mini-batching, saving, or complex backpropagation computations. That's all been done for you, as you're using a TensorFlow dataset with the batches specified already. You do have the option to specify epoch number or minibatch size if you like (for example, in the case of an un-batched dataset)."
   ]
  },
  {
   "cell_type": "code",
   "execution_count": 8,
   "metadata": {},
   "outputs": [
    {
     "name": "stdout",
     "output_type": "stream",
     "text": [
      "Epoch 1/10\n",
      "38/38 [==============================] - 4s 100ms/step - loss: 1.4912 - accuracy: 0.6900\n",
      "Epoch 2/10\n",
      "38/38 [==============================] - 4s 98ms/step - loss: 0.1976 - accuracy: 0.9200\n",
      "Epoch 3/10\n",
      "38/38 [==============================] - 4s 100ms/step - loss: 0.1390 - accuracy: 0.9450\n",
      "Epoch 4/10\n",
      "38/38 [==============================] - 4s 98ms/step - loss: 0.1501 - accuracy: 0.9433\n",
      "Epoch 5/10\n",
      "38/38 [==============================] - 4s 98ms/step - loss: 0.1200 - accuracy: 0.9500\n",
      "Epoch 6/10\n",
      "38/38 [==============================] - 4s 100ms/step - loss: 0.1318 - accuracy: 0.9683\n",
      "Epoch 7/10\n",
      "38/38 [==============================] - 4s 95ms/step - loss: 0.1579 - accuracy: 0.9417\n",
      "Epoch 8/10\n",
      "38/38 [==============================] - 4s 97ms/step - loss: 0.0840 - accuracy: 0.9717\n",
      "Epoch 9/10\n",
      "38/38 [==============================] - 4s 98ms/step - loss: 0.0636 - accuracy: 0.9800\n",
      "Epoch 10/10\n",
      "38/38 [==============================] - 4s 97ms/step - loss: 0.0715 - accuracy: 0.9750\n"
     ]
    },
    {
     "data": {
      "text/plain": [
       "<tensorflow.python.keras.callbacks.History at 0x7f7d2f6a6190>"
      ]
     },
     "execution_count": 8,
     "metadata": {},
     "output_type": "execute_result"
    }
   ],
   "source": [
    "happy_model.fit(X_train, Y_train, epochs=10, batch_size=16)"
   ]
  },
  {
   "cell_type": "markdown",
   "metadata": {},
   "source": [
    "After that completes, just use `.evaluate()` to evaluate against your test set. This function will print the value of the loss function and the performance metrics specified during the compilation of the model. In this case, the `binary_crossentropy` and the `accuracy` respectively."
   ]
  },
  {
   "cell_type": "code",
   "execution_count": 9,
   "metadata": {},
   "outputs": [
    {
     "name": "stdout",
     "output_type": "stream",
     "text": [
      "5/5 [==============================] - 0s 26ms/step - loss: 0.1267 - accuracy: 0.9600\n"
     ]
    },
    {
     "data": {
      "text/plain": [
       "[0.12674535810947418, 0.9599999785423279]"
      ]
     },
     "execution_count": 9,
     "metadata": {},
     "output_type": "execute_result"
    }
   ],
   "source": [
    "happy_model.evaluate(X_test, Y_test)"
   ]
  },
  {
   "cell_type": "markdown",
   "metadata": {},
   "source": [
    "Easy, right? But what if you need to build a model with shared layers, branches, or multiple inputs and outputs? This is where Sequential, with its beautifully simple yet limited functionality, won't be able to help you. \n",
    "\n",
    "Next up: Enter the Functional API, your slightly more complex, highly flexible friend.  "
   ]
  },
  {
   "cell_type": "markdown",
   "metadata": {},
   "source": [
    "<a name='4'></a>\n",
    "## 4 - The Functional API"
   ]
  },
  {
   "cell_type": "markdown",
   "metadata": {},
   "source": [
    "Welcome to the second half of the assignment, where you'll use Keras' flexible [Functional API](https://www.tensorflow.org/guide/keras/functional) to build a ConvNet that can differentiate between 6 sign language digits. \n",
    "\n",
    "The Functional API can handle models with non-linear topology, shared layers, as well as layers with multiple inputs or outputs. Imagine that, where the Sequential API requires the model to move in a linear fashion through its layers, the Functional API allows much more flexibility. Where Sequential is a straight line, a Functional model is a graph, where the nodes of the layers can connect in many more ways than one. \n",
    "\n",
    "In the visual example below, the one possible direction of the movement Sequential model is shown in contrast to a skip connection, which is just one of the many ways a Functional model can be constructed. A skip connection, as you might have guessed, skips some layer in the network and feeds the output to a later layer in the network. Don't worry, you'll be spending more time with skip connections very soon! "
   ]
  },
  {
   "cell_type": "markdown",
   "metadata": {},
   "source": [
    "<img src=\"images/seq_vs_func.png\" style=\"width:350px;height:200px;\">"
   ]
  },
  {
   "cell_type": "markdown",
   "metadata": {},
   "source": [
    "<a name='4-1'></a>\n",
    "### 4.1 - Load the SIGNS Dataset\n",
    "\n",
    "As a reminder, the SIGNS dataset is a collection of 6 signs representing numbers from 0 to 5."
   ]
  },
  {
   "cell_type": "code",
   "execution_count": 10,
   "metadata": {},
   "outputs": [],
   "source": [
    "# Loading the data (signs)\n",
    "X_train_orig, Y_train_orig, X_test_orig, Y_test_orig, classes = load_signs_dataset()"
   ]
  },
  {
   "cell_type": "markdown",
   "metadata": {},
   "source": [
    "<img src=\"images/SIGNS.png\" style=\"width:800px;height:300px;\">\n",
    "\n",
    "The next cell will show you an example of a labelled image in the dataset. Feel free to change the value of `index` below and re-run to see different examples. "
   ]
  },
  {
   "cell_type": "code",
   "execution_count": 11,
   "metadata": {},
   "outputs": [
    {
     "name": "stdout",
     "output_type": "stream",
     "text": [
      "y = 4\n"
     ]
    },
    {
     "data": {
      "image/png": "[encoded data removed]",
      "text/plain": [
       "<Figure size 432x288 with 1 Axes>"
      ]
     },
     "metadata": {
      "needs_background": "light"
     },
     "output_type": "display_data"
    }
   ],
   "source": [
    "# Example of an image from the dataset\n",
    "index = 9\n",
    "plt.imshow(X_train_orig[index])\n",
    "print (\"y = \" + str(np.squeeze(Y_train_orig[:, index])))"
   ]
  },
  {
   "cell_type": "markdown",
   "metadata": {},
   "source": [
    "<a name='4-2'></a>\n",
    "### 4.2 - Split the Data into Train/Test Sets\n",
    "\n",
    "In Course 2, you built a fully-connected network for this dataset. But since this is an image dataset, it is more natural to apply a ConvNet to it.\n",
    "\n",
    "To get started, let's examine the shapes of your data. "
   ]
  },
  {
   "cell_type": "code",
   "execution_count": 12,
   "metadata": {},
   "outputs": [
    {
     "name": "stdout",
     "output_type": "stream",
     "text": [
      "number of training examples = 1080\n",
      "number of test examples = 120\n",
      "X_train shape: (1080, 64, 64, 3)\n",
      "Y_train shape: (1080, 6)\n",
      "X_test shape: (120, 64, 64, 3)\n",
      "Y_test shape: (120, 6)\n"
     ]
    }
   ],
   "source": [
    "X_train = X_train_orig/255.\n",
    "X_test = X_test_orig/255.\n",
    "Y_train = convert_to_one_hot(Y_train_orig, 6).T\n",
    "Y_test = convert_to_one_hot(Y_test_orig, 6).T\n",
    "print (\"number of training examples = \" + str(X_train.shape[0]))\n",
    "print (\"number of test examples = \" + str(X_test.shape[0]))\n",
    "print (\"X_train shape: \" + str(X_train.shape))\n",
    "print (\"Y_train shape: \" + str(Y_train.shape))\n",
    "print (\"X_test shape: \" + str(X_test.shape))\n",
    "print (\"Y_test shape: \" + str(Y_test.shape))"
   ]
  },
  {
   "cell_type": "markdown",
   "metadata": {},
   "source": [
    "<a name='4-3'></a>\n",
    "### 4.3 - Forward Propagation\n",
    "\n",
    "In TensorFlow, there are built-in functions that implement the convolution steps for you. By now, you should be familiar with how TensorFlow builds computational graphs. In the [Functional API](https://www.tensorflow.org/guide/keras/functional), you create a graph of layers. This is what allows such great flexibility.\n",
    "\n",
    "However, the following model could also be defined using the Sequential API since the information flow is on a single line. But don't deviate. What we want you to learn is to use the functional API.\n",
    "\n",
    "Begin building your graph of layers by creating an input node that functions as a callable object:\n",
    "\n",
    "- **input_img = tf.keras.Input(shape=input_shape):** \n",
    "\n",
    "Then, create a new node in the graph of layers by calling a layer on the `input_img` object: \n",
    "\n",
    "- **tf.keras.layers.Conv2D(filters= ... , kernel_size= ... , padding='same')(input_img):** Read the full documentation on [Conv2D](https://www.tensorflow.org/api_docs/python/tf/keras/layers/Conv2D).\n",
    "\n",
    "- **tf.keras.layers.MaxPool2D(pool_size=(f, f), strides=(s, s), padding='same'):** `MaxPool2D()` downsamples your input using a window of size (f, f) and strides of size (s, s) to carry out max pooling over each window.  For max pooling, you usually operate on a single example at a time and a single channel at a time. Read the full documentation on [MaxPool2D](https://www.tensorflow.org/api_docs/python/tf/keras/layers/MaxPool2D).\n",
    "\n",
    "- **tf.keras.layers.ReLU():** computes the elementwise ReLU of Z (which can be any shape). You can read the full documentation on [ReLU](https://www.tensorflow.org/api_docs/python/tf/keras/layers/ReLU).\n",
    "\n",
    "- **tf.keras.layers.Flatten()**: given a tensor \"P\", this function takes each training (or test) example in the batch and flattens it into a 1D vector.  \n",
    "\n",
    "    * If a tensor P has the shape (batch_size,h,w,c), it returns a flattened tensor with shape (batch_size, k), where $k=h \\times w \\times c$.  \"k\" equals the product of all the dimension sizes other than the first dimension.\n",
    "    \n",
    "    * For example, given a tensor with dimensions [100, 2, 3, 4], it flattens the tensor to be of shape [100, 24], where 24 = 2 * 3 * 4.  You can read the full documentation on [Flatten](https://www.tensorflow.org/api_docs/python/tf/keras/layers/Flatten).\n",
    "\n",
    "- **tf.keras.layers.Dense(units= ... , activation='softmax')(F):** given the flattened input F, it returns the output computed using a fully connected layer. You can read the full documentation on [Dense](https://www.tensorflow.org/api_docs/python/tf/keras/layers/Dense).\n",
    "\n",
    "In the last function above (`tf.keras.layers.Dense()`), the fully connected layer automatically initializes weights in the graph and keeps on training them as you train the model. Hence, you did not need to initialize those weights when initializing the parameters.\n",
    "\n",
    "Lastly, before creating the model, you'll need to define the output using the last of the function's compositions (in this example, a Dense layer): \n",
    "\n",
    "- **outputs = tf.keras.layers.Dense(units=6, activation='softmax')(F)**\n",
    "\n",
    "\n",
    "#### Window, kernel, filter, pool\n",
    "\n",
    "The words \"kernel\" and \"filter\" are used to refer to the same thing. The word \"filter\" accounts for the amount of \"kernels\" that will be used in a single convolution layer. \"Pool\" is the name of the operation that takes the max or average value of the kernels. \n",
    "\n",
    "This is why the parameter `pool_size` refers to `kernel_size`, and you use `(f,f)` to refer to the filter size. \n",
    "\n",
    "Pool size and kernel size refer to the same thing in different objects - They refer to the shape of the window where the operation takes place. "
   ]
  },
  {
   "cell_type": "markdown",
   "metadata": {},
   "source": [
    "<a name='ex-2'></a>\n",
    "### Exercise 2 - convolutional_model\n",
    "\n",
    "Implement the `convolutional_model` function below to build the following model: `CONV2D -> RELU -> MAXPOOL -> CONV2D -> RELU -> MAXPOOL -> FLATTEN -> DENSE`. Use the functions above! \n",
    "\n",
    "Also, plug in the following parameters for all the steps:\n",
    "\n",
    " - [Conv2D](https://www.tensorflow.org/api_docs/python/tf/keras/layers/Conv2D): Use 8 4 by 4 filters, stride 1, padding is \"SAME\"\n",
    " - [ReLU](https://www.tensorflow.org/api_docs/python/tf/keras/layers/ReLU)\n",
    " - [MaxPool2D](https://www.tensorflow.org/api_docs/python/tf/keras/layers/MaxPool2D): Use an 8 by 8 filter size and an 8 by 8 stride, padding is \"SAME\"\n",
    " - **Conv2D**: Use 16 2 by 2 filters, stride 1, padding is \"SAME\"\n",
    " - **ReLU**\n",
    " - **MaxPool2D**: Use a 4 by 4 filter size and a 4 by 4 stride, padding is \"SAME\"\n",
    " - [Flatten](https://www.tensorflow.org/api_docs/python/tf/keras/layers/Flatten) the previous output.\n",
    " - Fully-connected ([Dense](https://www.tensorflow.org/api_docs/python/tf/keras/layers/Dense)) layer: Apply a fully connected layer with 6 neurons and a softmax activation. "
   ]
  },
  {
   "cell_type": "code",
   "execution_count": 13,
   "metadata": {
    "deletable": false,
    "nbgrader": {
     "cell_type": "code",
     "checksum": "f58643806aa8380c96225fc8b4c5e7aa",
     "grade": false,
     "grade_id": "cell-dac51744a9e03f51",
     "locked": false,
     "schema_version": 3,
     "solution": true,
     "task": false
    }
   },
   "outputs": [],
   "source": [
    "# GRADED FUNCTION: convolutional_model\n",
    "\n",
    "def convolutional_model(input_shape):\n",
    "    \"\"\"\n",
    "    Implements the forward propagation for the model:\n",
    "    CONV2D -> RELU -> MAXPOOL -> CONV2D -> RELU -> MAXPOOL -> FLATTEN -> DENSE\n",
    "    \n",
    "    Note that for simplicity and grading purposes, you'll hard-code some values\n",
    "    such as the stride and kernel (filter) sizes. \n",
    "    Normally, functions should take these values as function parameters.\n",
    "    \n",
    "    Arguments:\n",
    "    input_img -- input dataset, of shape (input_shape)\n",
    "\n",
    "    Returns:\n",
    "    model -- TF Keras model (object containing the information for the entire training process) \n",
    "    \"\"\"\n",
    "\n",
    "    input_img = tf.keras.Input(shape=input_shape)\n",
    "\n",
    "    ## CONV2D: 8 filters 4x4, stride of 1, padding 'SAME'\n",
    "    Z1 = tfl.Conv2D(8, 4, activation='linear', padding=\"same\", strides=1)(input_img)\n",
    "    ## RELU\n",
    "    A1 = tfl.ReLU()(Z1)\n",
    "    ## MAXPOOL: window 8x8, stride 8, padding 'SAME'\n",
    "    P1 = tfl.MaxPool2D(pool_size=(8, 8), strides=(8, 8), padding='same')(A1)\n",
    "    ## CONV2D: 16 filters 2x2, stride 1, padding 'SAME'\n",
    "    Z2 = tfl.Conv2D(16, 2, activation='linear', padding=\"same\", strides=1)(P1)\n",
    "    ## RELU\n",
    "    A2 = tfl.ReLU()(Z2)\n",
    "    ## MAXPOOL: window 4x4, stride 4, padding 'SAME'\n",
    "    P2 = tfl.MaxPool2D(pool_size=(4, 4), strides=(4, 4), padding='same')(A2)\n",
    "    ## FLATTEN\n",
    "    F = tfl.Flatten()(P2)\n",
    "    ## Dense layer\n",
    "    ## 6 neurons in output layer. Hint: one of the arguments should be \"activation='softmax'\"\n",
    "    outputs = tfl.Dense(6, activation='softmax')(F)\n",
    "\n",
    "    model = tf.keras.Model(inputs=input_img, outputs=outputs)\n",
    "    return model"
   ]
  },
  {
   "cell_type": "code",
   "execution_count": 14,
   "metadata": {
    "deletable": false,
    "editable": false,
    "nbgrader": {
     "cell_type": "code",
     "checksum": "483d626949930a0b0ef20997e7c6ba72",
     "grade": true,
     "grade_id": "cell-45d22e92042174c9",
     "locked": true,
     "points": 10,
     "schema_version": 3,
     "solution": false,
     "task": false
    }
   },
   "outputs": [
    {
     "name": "stdout",
     "output_type": "stream",
     "text": [
      "Model: \"functional_1\"\n",
      "_________________________________________________________________\n",
      "Layer (type)                 Output Shape              Param #   \n",
      "=================================================================\n",
      "input_1 (InputLayer)         [(None, 64, 64, 3)]       0         \n",
      "_________________________________________________________________\n",
      "conv2d_1 (Conv2D)            (None, 64, 64, 8)         392       \n",
      "_________________________________________________________________\n",
      "re_lu_1 (ReLU)               (None, 64, 64, 8)         0         \n",
      "_________________________________________________________________\n",
      "max_pooling2d_1 (MaxPooling2 (None, 8, 8, 8)           0         \n",
      "_________________________________________________________________\n",
      "conv2d_2 (Conv2D)            (None, 8, 8, 16)          528       \n",
      "_________________________________________________________________\n",
      "re_lu_2 (ReLU)               (None, 8, 8, 16)          0         \n",
      "_________________________________________________________________\n",
      "max_pooling2d_2 (MaxPooling2 (None, 2, 2, 16)          0         \n",
      "_________________________________________________________________\n",
      "flatten_1 (Flatten)          (None, 64)                0         \n",
      "_________________________________________________________________\n",
      "dense_1 (Dense)              (None, 6)                 390       \n",
      "=================================================================\n",
      "Total params: 1,310\n",
      "Trainable params: 1,310\n",
      "Non-trainable params: 0\n",
      "_________________________________________________________________\n",
      "\u001b[32mAll tests passed!\u001b[0m\n"
     ]
    }
   ],
   "source": [
    "conv_model = convolutional_model((64, 64, 3))\n",
    "conv_model.compile(optimizer='adam',\n",
    "                  loss='categorical_crossentropy',\n",
    "                  metrics=['accuracy'])\n",
    "conv_model.summary()\n",
    "    \n",
    "output = [['InputLayer', [(None, 64, 64, 3)], 0],\n",
    "        ['Conv2D', (None, 64, 64, 8), 392, 'same', 'linear', 'GlorotUniform'],\n",
    "        ['ReLU', (None, 64, 64, 8), 0],\n",
    "        ['MaxPooling2D', (None, 8, 8, 8), 0, (8, 8), (8, 8), 'same'],\n",
    "        ['Conv2D', (None, 8, 8, 16), 528, 'same', 'linear', 'GlorotUniform'],\n",
    "        ['ReLU', (None, 8, 8, 16), 0],\n",
    "        ['MaxPooling2D', (None, 2, 2, 16), 0, (4, 4), (4, 4), 'same'],\n",
    "        ['Flatten', (None, 64), 0],\n",
    "        ['Dense', (None, 6), 390, 'softmax']]\n",
    "    \n",
    "comparator(summary(conv_model), output)"
   ]
  },
  {
   "cell_type": "markdown",
   "metadata": {},
   "source": [
    "Both the Sequential and Functional APIs return a TF Keras model object. The only difference is how inputs are handled inside the object model! "
   ]
  },
  {
   "cell_type": "markdown",
   "metadata": {},
   "source": [
    "<a name='4-4'></a>\n",
    "### 4.4 - Train the Model"
   ]
  },
  {
   "cell_type": "code",
   "execution_count": 15,
   "metadata": {},
   "outputs": [
    {
     "name": "stdout",
     "output_type": "stream",
     "text": [
      "Epoch 1/100\n",
      "17/17 [==============================] - 2s 118ms/step - loss: 1.8007 - accuracy: 0.1963 - val_loss: 1.7817 - val_accuracy: 0.1667\n",
      "Epoch 2/100\n",
      "17/17 [==============================] - 2s 112ms/step - loss: 1.7837 - accuracy: 0.2019 - val_loss: 1.7773 - val_accuracy: 0.2917\n",
      "Epoch 3/100\n",
      "17/17 [==============================] - 2s 107ms/step - loss: 1.7808 - accuracy: 0.2056 - val_loss: 1.7720 - val_accuracy: 0.2917\n",
      "Epoch 4/100\n",
      "17/17 [==============================] - 2s 107ms/step - loss: 1.7753 - accuracy: 0.2722 - val_loss: 1.7665 - val_accuracy: 0.3083\n",
      "Epoch 5/100\n",
      "17/17 [==============================] - 2s 107ms/step - loss: 1.7696 - accuracy: 0.2778 - val_loss: 1.7604 - val_accuracy: 0.3167\n",
      "Epoch 6/100\n",
      "17/17 [==============================] - 2s 106ms/step - loss: 1.7638 - accuracy: 0.2852 - val_loss: 1.7541 - val_accuracy: 0.3167\n",
      "Epoch 7/100\n",
      "17/17 [==============================] - 2s 112ms/step - loss: 1.7576 - accuracy: 0.2880 - val_loss: 1.7474 - val_accuracy: 0.3667\n",
      "Epoch 8/100\n",
      "17/17 [==============================] - 2s 112ms/step - loss: 1.7499 - accuracy: 0.3028 - val_loss: 1.7393 - val_accuracy: 0.3333\n",
      "Epoch 9/100\n",
      "17/17 [==============================] - 2s 112ms/step - loss: 1.7414 - accuracy: 0.3213 - val_loss: 1.7309 - val_accuracy: 0.3750\n",
      "Epoch 10/100\n",
      "17/17 [==============================] - 2s 117ms/step - loss: 1.7317 - accuracy: 0.3231 - val_loss: 1.7207 - val_accuracy: 0.3583\n",
      "Epoch 11/100\n",
      "17/17 [==============================] - 2s 112ms/step - loss: 1.7205 - accuracy: 0.3380 - val_loss: 1.7092 - val_accuracy: 0.4000\n",
      "Epoch 12/100\n",
      "17/17 [==============================] - 2s 112ms/step - loss: 1.7079 - accuracy: 0.3435 - val_loss: 1.6965 - val_accuracy: 0.4000\n",
      "Epoch 13/100\n",
      "17/17 [==============================] - 2s 111ms/step - loss: 1.6929 - accuracy: 0.3546 - val_loss: 1.6790 - val_accuracy: 0.4000\n",
      "Epoch 14/100\n",
      "17/17 [==============================] - 2s 112ms/step - loss: 1.6740 - accuracy: 0.3565 - val_loss: 1.6587 - val_accuracy: 0.4167\n",
      "Epoch 15/100\n",
      "17/17 [==============================] - 2s 112ms/step - loss: 1.6524 - accuracy: 0.3769 - val_loss: 1.6329 - val_accuracy: 0.4583\n",
      "Epoch 16/100\n",
      "17/17 [==============================] - 2s 112ms/step - loss: 1.6265 - accuracy: 0.3880 - val_loss: 1.6071 - val_accuracy: 0.4667\n",
      "Epoch 17/100\n",
      "17/17 [==============================] - 2s 107ms/step - loss: 1.5956 - accuracy: 0.4083 - val_loss: 1.5765 - val_accuracy: 0.5167\n",
      "Epoch 18/100\n",
      "17/17 [==============================] - 2s 106ms/step - loss: 1.5622 - accuracy: 0.4380 - val_loss: 1.5463 - val_accuracy: 0.5167\n",
      "Epoch 19/100\n",
      "17/17 [==============================] - 2s 106ms/step - loss: 1.5244 - accuracy: 0.4537 - val_loss: 1.5086 - val_accuracy: 0.5333\n",
      "Epoch 20/100\n",
      "17/17 [==============================] - 2s 111ms/step - loss: 1.4844 - accuracy: 0.4796 - val_loss: 1.4735 - val_accuracy: 0.5500\n",
      "Epoch 21/100\n",
      "17/17 [==============================] - 2s 111ms/step - loss: 1.4386 - accuracy: 0.5000 - val_loss: 1.4249 - val_accuracy: 0.5833\n",
      "Epoch 22/100\n",
      "17/17 [==============================] - 2s 112ms/step - loss: 1.3940 - accuracy: 0.5056 - val_loss: 1.3810 - val_accuracy: 0.6000\n",
      "Epoch 23/100\n",
      "17/17 [==============================] - 2s 107ms/step - loss: 1.3518 - accuracy: 0.5278 - val_loss: 1.3376 - val_accuracy: 0.6250\n",
      "Epoch 24/100\n",
      "17/17 [==============================] - 2s 106ms/step - loss: 1.3073 - accuracy: 0.5565 - val_loss: 1.2944 - val_accuracy: 0.6250\n",
      "Epoch 25/100\n",
      "17/17 [==============================] - 2s 107ms/step - loss: 1.2668 - accuracy: 0.5731 - val_loss: 1.2519 - val_accuracy: 0.6333\n",
      "Epoch 26/100\n",
      "17/17 [==============================] - 2s 112ms/step - loss: 1.2282 - accuracy: 0.5778 - val_loss: 1.2101 - val_accuracy: 0.6583\n",
      "Epoch 27/100\n",
      "17/17 [==============================] - 2s 107ms/step - loss: 1.1916 - accuracy: 0.6000 - val_loss: 1.1727 - val_accuracy: 0.6250\n",
      "Epoch 28/100\n",
      "17/17 [==============================] - 2s 107ms/step - loss: 1.1564 - accuracy: 0.6046 - val_loss: 1.1370 - val_accuracy: 0.6333\n",
      "Epoch 29/100\n",
      "17/17 [==============================] - 2s 112ms/step - loss: 1.1239 - accuracy: 0.6167 - val_loss: 1.1016 - val_accuracy: 0.6333\n",
      "Epoch 30/100\n",
      "17/17 [==============================] - 2s 112ms/step - loss: 1.0914 - accuracy: 0.6296 - val_loss: 1.0694 - val_accuracy: 0.6333\n",
      "Epoch 31/100\n",
      "17/17 [==============================] - 2s 112ms/step - loss: 1.0614 - accuracy: 0.6417 - val_loss: 1.0413 - val_accuracy: 0.6583\n",
      "Epoch 32/100\n",
      "17/17 [==============================] - 2s 112ms/step - loss: 1.0324 - accuracy: 0.6519 - val_loss: 1.0121 - val_accuracy: 0.6750\n",
      "Epoch 33/100\n",
      "17/17 [==============================] - 2s 112ms/step - loss: 1.0056 - accuracy: 0.6685 - val_loss: 0.9875 - val_accuracy: 0.6583\n",
      "Epoch 34/100\n",
      "17/17 [==============================] - 2s 106ms/step - loss: 0.9806 - accuracy: 0.6722 - val_loss: 0.9636 - val_accuracy: 0.6833\n",
      "Epoch 35/100\n",
      "17/17 [==============================] - 2s 107ms/step - loss: 0.9573 - accuracy: 0.6824 - val_loss: 0.9418 - val_accuracy: 0.6917\n",
      "Epoch 36/100\n",
      "17/17 [==============================] - 2s 112ms/step - loss: 0.9343 - accuracy: 0.6926 - val_loss: 0.9237 - val_accuracy: 0.7083\n",
      "Epoch 37/100\n",
      "17/17 [==============================] - 2s 112ms/step - loss: 0.9127 - accuracy: 0.7028 - val_loss: 0.9056 - val_accuracy: 0.7167\n",
      "Epoch 38/100\n",
      "17/17 [==============================] - 2s 112ms/step - loss: 0.8910 - accuracy: 0.7083 - val_loss: 0.8869 - val_accuracy: 0.7333\n",
      "Epoch 39/100\n",
      "17/17 [==============================] - 2s 111ms/step - loss: 0.8719 - accuracy: 0.7139 - val_loss: 0.8680 - val_accuracy: 0.7333\n",
      "Epoch 40/100\n",
      "17/17 [==============================] - 2s 111ms/step - loss: 0.8510 - accuracy: 0.7222 - val_loss: 0.8545 - val_accuracy: 0.7333\n",
      "Epoch 41/100\n",
      "17/17 [==============================] - 2s 106ms/step - loss: 0.8336 - accuracy: 0.7231 - val_loss: 0.8397 - val_accuracy: 0.7417\n",
      "Epoch 42/100\n",
      "17/17 [==============================] - 2s 112ms/step - loss: 0.8150 - accuracy: 0.7333 - val_loss: 0.8255 - val_accuracy: 0.7417\n",
      "Epoch 43/100\n",
      "17/17 [==============================] - 2s 106ms/step - loss: 0.7987 - accuracy: 0.7361 - val_loss: 0.8122 - val_accuracy: 0.7417\n",
      "Epoch 44/100\n",
      "17/17 [==============================] - 2s 106ms/step - loss: 0.7823 - accuracy: 0.7435 - val_loss: 0.7981 - val_accuracy: 0.7417\n",
      "Epoch 45/100\n",
      "17/17 [==============================] - 2s 106ms/step - loss: 0.7651 - accuracy: 0.7519 - val_loss: 0.7861 - val_accuracy: 0.7417\n",
      "Epoch 46/100\n",
      "17/17 [==============================] - 2s 112ms/step - loss: 0.7513 - accuracy: 0.7556 - val_loss: 0.7769 - val_accuracy: 0.7417\n",
      "Epoch 47/100\n",
      "17/17 [==============================] - 2s 111ms/step - loss: 0.7367 - accuracy: 0.7648 - val_loss: 0.7651 - val_accuracy: 0.7417\n",
      "Epoch 48/100\n",
      "17/17 [==============================] - 2s 111ms/step - loss: 0.7219 - accuracy: 0.7676 - val_loss: 0.7554 - val_accuracy: 0.7417\n",
      "Epoch 49/100\n",
      "17/17 [==============================] - 2s 107ms/step - loss: 0.7091 - accuracy: 0.7759 - val_loss: 0.7450 - val_accuracy: 0.7417\n",
      "Epoch 50/100\n",
      "17/17 [==============================] - 2s 111ms/step - loss: 0.6962 - accuracy: 0.7778 - val_loss: 0.7376 - val_accuracy: 0.7417\n",
      "Epoch 51/100\n",
      "17/17 [==============================] - 2s 106ms/step - loss: 0.6841 - accuracy: 0.7824 - val_loss: 0.7286 - val_accuracy: 0.7500\n",
      "Epoch 52/100\n",
      "17/17 [==============================] - 2s 107ms/step - loss: 0.6723 - accuracy: 0.7944 - val_loss: 0.7204 - val_accuracy: 0.7417\n",
      "Epoch 53/100\n",
      "17/17 [==============================] - 2s 107ms/step - loss: 0.6609 - accuracy: 0.7935 - val_loss: 0.7114 - val_accuracy: 0.7417\n",
      "Epoch 54/100\n",
      "17/17 [==============================] - 2s 112ms/step - loss: 0.6499 - accuracy: 0.7963 - val_loss: 0.7044 - val_accuracy: 0.7500\n",
      "Epoch 55/100\n",
      "17/17 [==============================] - 2s 112ms/step - loss: 0.6396 - accuracy: 0.8019 - val_loss: 0.6964 - val_accuracy: 0.7500\n",
      "Epoch 56/100\n",
      "17/17 [==============================] - 2s 106ms/step - loss: 0.6297 - accuracy: 0.8056 - val_loss: 0.6888 - val_accuracy: 0.7500\n",
      "Epoch 57/100\n",
      "17/17 [==============================] - 2s 107ms/step - loss: 0.6203 - accuracy: 0.8093 - val_loss: 0.6816 - val_accuracy: 0.7500\n",
      "Epoch 58/100\n",
      "17/17 [==============================] - 2s 107ms/step - loss: 0.6111 - accuracy: 0.8102 - val_loss: 0.6745 - val_accuracy: 0.7667\n",
      "Epoch 59/100\n",
      "17/17 [==============================] - 2s 112ms/step - loss: 0.6022 - accuracy: 0.8130 - val_loss: 0.6682 - val_accuracy: 0.7667\n",
      "Epoch 60/100\n",
      "17/17 [==============================] - 2s 107ms/step - loss: 0.5938 - accuracy: 0.8148 - val_loss: 0.6609 - val_accuracy: 0.7750\n",
      "Epoch 61/100\n",
      "17/17 [==============================] - 2s 107ms/step - loss: 0.5857 - accuracy: 0.8130 - val_loss: 0.6556 - val_accuracy: 0.7750\n",
      "Epoch 62/100\n",
      "17/17 [==============================] - 2s 112ms/step - loss: 0.5778 - accuracy: 0.8204 - val_loss: 0.6493 - val_accuracy: 0.7750\n",
      "Epoch 63/100\n",
      "17/17 [==============================] - 2s 107ms/step - loss: 0.5699 - accuracy: 0.8213 - val_loss: 0.6433 - val_accuracy: 0.7750\n",
      "Epoch 64/100\n",
      "17/17 [==============================] - 2s 107ms/step - loss: 0.5626 - accuracy: 0.8278 - val_loss: 0.6391 - val_accuracy: 0.7750\n",
      "Epoch 65/100\n",
      "17/17 [==============================] - 2s 112ms/step - loss: 0.5557 - accuracy: 0.8315 - val_loss: 0.6333 - val_accuracy: 0.7750\n",
      "Epoch 66/100\n",
      "17/17 [==============================] - 2s 111ms/step - loss: 0.5487 - accuracy: 0.8352 - val_loss: 0.6287 - val_accuracy: 0.7750\n",
      "Epoch 67/100\n",
      "17/17 [==============================] - 2s 112ms/step - loss: 0.5417 - accuracy: 0.8343 - val_loss: 0.6241 - val_accuracy: 0.7833\n",
      "Epoch 68/100\n",
      "17/17 [==============================] - 2s 112ms/step - loss: 0.5352 - accuracy: 0.8333 - val_loss: 0.6197 - val_accuracy: 0.7833\n",
      "Epoch 69/100\n",
      "17/17 [==============================] - 2s 107ms/step - loss: 0.5288 - accuracy: 0.8361 - val_loss: 0.6154 - val_accuracy: 0.8000\n",
      "Epoch 70/100\n",
      "17/17 [==============================] - 2s 112ms/step - loss: 0.5228 - accuracy: 0.8380 - val_loss: 0.6101 - val_accuracy: 0.8000\n",
      "Epoch 71/100\n",
      "17/17 [==============================] - 2s 112ms/step - loss: 0.5164 - accuracy: 0.8398 - val_loss: 0.6064 - val_accuracy: 0.7917\n",
      "Epoch 72/100\n",
      "17/17 [==============================] - 2s 112ms/step - loss: 0.5107 - accuracy: 0.8407 - val_loss: 0.6019 - val_accuracy: 0.7917\n",
      "Epoch 73/100\n",
      "17/17 [==============================] - 2s 112ms/step - loss: 0.5052 - accuracy: 0.8435 - val_loss: 0.5985 - val_accuracy: 0.7917\n",
      "Epoch 74/100\n",
      "17/17 [==============================] - 2s 106ms/step - loss: 0.4995 - accuracy: 0.8472 - val_loss: 0.5944 - val_accuracy: 0.7917\n",
      "Epoch 75/100\n",
      "17/17 [==============================] - 2s 117ms/step - loss: 0.4939 - accuracy: 0.8500 - val_loss: 0.5914 - val_accuracy: 0.7917\n",
      "Epoch 76/100\n",
      "17/17 [==============================] - 2s 111ms/step - loss: 0.4886 - accuracy: 0.8509 - val_loss: 0.5872 - val_accuracy: 0.8000\n",
      "Epoch 77/100\n",
      "17/17 [==============================] - 2s 111ms/step - loss: 0.4835 - accuracy: 0.8528 - val_loss: 0.5844 - val_accuracy: 0.7917\n",
      "Epoch 78/100\n",
      "17/17 [==============================] - 2s 111ms/step - loss: 0.4783 - accuracy: 0.8537 - val_loss: 0.5802 - val_accuracy: 0.8000\n",
      "Epoch 79/100\n",
      "17/17 [==============================] - 2s 111ms/step - loss: 0.4733 - accuracy: 0.8537 - val_loss: 0.5768 - val_accuracy: 0.8000\n",
      "Epoch 80/100\n",
      "17/17 [==============================] - 2s 107ms/step - loss: 0.4683 - accuracy: 0.8556 - val_loss: 0.5722 - val_accuracy: 0.8000\n",
      "Epoch 81/100\n",
      "17/17 [==============================] - 2s 112ms/step - loss: 0.4635 - accuracy: 0.8574 - val_loss: 0.5697 - val_accuracy: 0.8083\n",
      "Epoch 82/100\n",
      "17/17 [==============================] - 2s 112ms/step - loss: 0.4590 - accuracy: 0.8593 - val_loss: 0.5661 - val_accuracy: 0.8083\n",
      "Epoch 83/100\n",
      "17/17 [==============================] - 2s 117ms/step - loss: 0.4546 - accuracy: 0.8602 - val_loss: 0.5640 - val_accuracy: 0.8083\n",
      "Epoch 84/100\n",
      "17/17 [==============================] - 2s 117ms/step - loss: 0.4503 - accuracy: 0.8602 - val_loss: 0.5600 - val_accuracy: 0.8083\n",
      "Epoch 85/100\n",
      "17/17 [==============================] - 2s 112ms/step - loss: 0.4461 - accuracy: 0.8611 - val_loss: 0.5577 - val_accuracy: 0.8167\n",
      "Epoch 86/100\n",
      "17/17 [==============================] - 2s 112ms/step - loss: 0.4420 - accuracy: 0.8620 - val_loss: 0.5544 - val_accuracy: 0.8167\n",
      "Epoch 87/100\n",
      "17/17 [==============================] - 2s 112ms/step - loss: 0.4377 - accuracy: 0.8648 - val_loss: 0.5523 - val_accuracy: 0.8167\n",
      "Epoch 88/100\n",
      "17/17 [==============================] - 2s 112ms/step - loss: 0.4339 - accuracy: 0.8667 - val_loss: 0.5492 - val_accuracy: 0.8167\n",
      "Epoch 89/100\n",
      "17/17 [==============================] - 2s 106ms/step - loss: 0.4299 - accuracy: 0.8667 - val_loss: 0.5467 - val_accuracy: 0.8250\n",
      "Epoch 90/100\n",
      "17/17 [==============================] - 2s 112ms/step - loss: 0.4259 - accuracy: 0.8676 - val_loss: 0.5445 - val_accuracy: 0.8250\n",
      "Epoch 91/100\n",
      "17/17 [==============================] - 2s 112ms/step - loss: 0.4221 - accuracy: 0.8704 - val_loss: 0.5414 - val_accuracy: 0.8250\n",
      "Epoch 92/100\n",
      "17/17 [==============================] - 2s 112ms/step - loss: 0.4183 - accuracy: 0.8704 - val_loss: 0.5405 - val_accuracy: 0.8250\n",
      "Epoch 93/100\n",
      "17/17 [==============================] - 2s 112ms/step - loss: 0.4147 - accuracy: 0.8722 - val_loss: 0.5369 - val_accuracy: 0.8250\n",
      "Epoch 94/100\n",
      "17/17 [==============================] - 2s 106ms/step - loss: 0.4106 - accuracy: 0.8722 - val_loss: 0.5353 - val_accuracy: 0.8250\n",
      "Epoch 95/100\n",
      "17/17 [==============================] - 2s 106ms/step - loss: 0.4070 - accuracy: 0.8731 - val_loss: 0.5328 - val_accuracy: 0.8250\n",
      "Epoch 96/100\n",
      "17/17 [==============================] - 2s 112ms/step - loss: 0.4035 - accuracy: 0.8731 - val_loss: 0.5308 - val_accuracy: 0.8250\n",
      "Epoch 97/100\n",
      "17/17 [==============================] - 2s 112ms/step - loss: 0.4003 - accuracy: 0.8750 - val_loss: 0.5290 - val_accuracy: 0.8250\n",
      "Epoch 98/100\n",
      "17/17 [==============================] - 2s 112ms/step - loss: 0.3970 - accuracy: 0.8759 - val_loss: 0.5269 - val_accuracy: 0.8250\n",
      "Epoch 99/100\n",
      "17/17 [==============================] - 2s 112ms/step - loss: 0.3937 - accuracy: 0.8778 - val_loss: 0.5249 - val_accuracy: 0.8250\n",
      "Epoch 100/100\n",
      "17/17 [==============================] - 2s 112ms/step - loss: 0.3906 - accuracy: 0.8806 - val_loss: 0.5234 - val_accuracy: 0.8250\n"
     ]
    }
   ],
   "source": [
    "train_dataset = tf.data.Dataset.from_tensor_slices((X_train, Y_train)).batch(64)\n",
    "test_dataset = tf.data.Dataset.from_tensor_slices((X_test, Y_test)).batch(64)\n",
    "history = conv_model.fit(train_dataset, epochs=100, validation_data=test_dataset)"
   ]
  },
  {
   "cell_type": "markdown",
   "metadata": {},
   "source": [
    "<a name='5'></a>\n",
    "## 5 - History Object \n",
    "\n",
    "The history object is an output of the `.fit()` operation, and provides a record of all the loss and metric values in memory. It's stored as a dictionary that you can retrieve at `history.history`: "
   ]
  },
  {
   "cell_type": "code",
   "execution_count": 16,
   "metadata": {},
   "outputs": [
    {
     "data": {
      "text/plain": [
       "{'loss': [1.8007490634918213,\n",
       "  1.7837421894073486,\n",
       "  1.780781865119934,\n",
       "  1.775339961051941,\n",
       "  1.7696162462234497,\n",
       "  1.7637766599655151,\n",
       "  1.7575743198394775,\n",
       "  1.7498630285263062,\n",
       "  1.7414143085479736,\n",
       "  1.73167884349823,\n",
       "  1.7204700708389282,\n",
       "  1.7078913450241089,\n",
       "  1.6929292678833008,\n",
       "  1.6739577054977417,\n",
       "  1.6523942947387695,\n",
       "  1.6264691352844238,\n",
       "  1.5955564975738525,\n",
       "  1.5622154474258423,\n",
       "  1.5243549346923828,\n",
       "  1.484370231628418,\n",
       "  1.4386268854141235,\n",
       "  1.3939940929412842,\n",
       "  1.3518247604370117,\n",
       "  1.307332158088684,\n",
       "  1.266810655593872,\n",
       "  1.2281845808029175,\n",
       "  1.1916311979293823,\n",
       "  1.1563503742218018,\n",
       "  1.1238558292388916,\n",
       "  1.091406226158142,\n",
       "  1.0614044666290283,\n",
       "  1.032365083694458,\n",
       "  1.0056225061416626,\n",
       "  0.9805704951286316,\n",
       "  0.9572780132293701,\n",
       "  0.9343116283416748,\n",
       "  0.9127010703086853,\n",
       "  0.8909662961959839,\n",
       "  0.8719074726104736,\n",
       "  0.8510250449180603,\n",
       "  0.8336237668991089,\n",
       "  0.814967155456543,\n",
       "  0.7987295985221863,\n",
       "  0.7822503447532654,\n",
       "  0.7651244401931763,\n",
       "  0.7513384222984314,\n",
       "  0.7367229461669922,\n",
       "  0.7218990325927734,\n",
       "  0.7090966701507568,\n",
       "  0.6961947083473206,\n",
       "  0.6841151118278503,\n",
       "  0.6723186373710632,\n",
       "  0.6608626842498779,\n",
       "  0.649921715259552,\n",
       "  0.6395787000656128,\n",
       "  0.6297128796577454,\n",
       "  0.620280385017395,\n",
       "  0.6110672950744629,\n",
       "  0.6022494435310364,\n",
       "  0.5938082337379456,\n",
       "  0.5857117176055908,\n",
       "  0.5778153538703918,\n",
       "  0.5699105262756348,\n",
       "  0.5626009106636047,\n",
       "  0.555664598941803,\n",
       "  0.5486681461334229,\n",
       "  0.5416622757911682,\n",
       "  0.5351973176002502,\n",
       "  0.5288181304931641,\n",
       "  0.5228278040885925,\n",
       "  0.5164034366607666,\n",
       "  0.5107347965240479,\n",
       "  0.5051921606063843,\n",
       "  0.4995405972003937,\n",
       "  0.4938903748989105,\n",
       "  0.4885813295841217,\n",
       "  0.4834725856781006,\n",
       "  0.47829845547676086,\n",
       "  0.47334998846054077,\n",
       "  0.4683161675930023,\n",
       "  0.463534414768219,\n",
       "  0.45904695987701416,\n",
       "  0.4546149671077728,\n",
       "  0.4503411054611206,\n",
       "  0.4460867941379547,\n",
       "  0.4419954717159271,\n",
       "  0.4376877248287201,\n",
       "  0.43393269181251526,\n",
       "  0.42988476157188416,\n",
       "  0.4259379208087921,\n",
       "  0.42206352949142456,\n",
       "  0.4183238744735718,\n",
       "  0.41469231247901917,\n",
       "  0.41063162684440613,\n",
       "  0.40700095891952515,\n",
       "  0.4034716784954071,\n",
       "  0.40026798844337463,\n",
       "  0.39703497290611267,\n",
       "  0.3937456011772156,\n",
       "  0.39057815074920654],\n",
       " 'accuracy': [0.19629628956317902,\n",
       "  0.20185184478759766,\n",
       "  0.20555555820465088,\n",
       "  0.27222222089767456,\n",
       "  0.2777777910232544,\n",
       "  0.28518518805503845,\n",
       "  0.28796297311782837,\n",
       "  0.3027777671813965,\n",
       "  0.3212963044643402,\n",
       "  0.3231481611728668,\n",
       "  0.33796295523643494,\n",
       "  0.34351852536201477,\n",
       "  0.35462963581085205,\n",
       "  0.35648149251937866,\n",
       "  0.3768518567085266,\n",
       "  0.3879629671573639,\n",
       "  0.40833333134651184,\n",
       "  0.43796294927597046,\n",
       "  0.45370370149612427,\n",
       "  0.47962963581085205,\n",
       "  0.5,\n",
       "  0.5055555701255798,\n",
       "  0.5277777910232544,\n",
       "  0.5564814805984497,\n",
       "  0.5731481313705444,\n",
       "  0.5777778029441833,\n",
       "  0.6000000238418579,\n",
       "  0.604629635810852,\n",
       "  0.6166666746139526,\n",
       "  0.6296296119689941,\n",
       "  0.6416666507720947,\n",
       "  0.6518518328666687,\n",
       "  0.6685185432434082,\n",
       "  0.6722221970558167,\n",
       "  0.6824073791503906,\n",
       "  0.6925926208496094,\n",
       "  0.7027778029441833,\n",
       "  0.7083333134651184,\n",
       "  0.7138888835906982,\n",
       "  0.7222222089767456,\n",
       "  0.7231481671333313,\n",
       "  0.7333333492279053,\n",
       "  0.7361111044883728,\n",
       "  0.7435185313224792,\n",
       "  0.7518518567085266,\n",
       "  0.7555555701255798,\n",
       "  0.7648147940635681,\n",
       "  0.7675926089286804,\n",
       "  0.7759259343147278,\n",
       "  0.7777777910232544,\n",
       "  0.7824074029922485,\n",
       "  0.7944444417953491,\n",
       "  0.7935185432434082,\n",
       "  0.7962962985038757,\n",
       "  0.8018518686294556,\n",
       "  0.8055555820465088,\n",
       "  0.8092592358589172,\n",
       "  0.8101851940155029,\n",
       "  0.8129629492759705,\n",
       "  0.8148148059844971,\n",
       "  0.8129629492759705,\n",
       "  0.8203703761100769,\n",
       "  0.8212962746620178,\n",
       "  0.8277778029441833,\n",
       "  0.8314814567565918,\n",
       "  0.835185170173645,\n",
       "  0.8342592716217041,\n",
       "  0.8333333134651184,\n",
       "  0.8361111283302307,\n",
       "  0.8379629850387573,\n",
       "  0.8398148417472839,\n",
       "  0.8407407402992249,\n",
       "  0.8435184955596924,\n",
       "  0.8472222089767456,\n",
       "  0.8500000238418579,\n",
       "  0.8509259223937988,\n",
       "  0.8527777791023254,\n",
       "  0.8537036776542664,\n",
       "  0.8537036776542664,\n",
       "  0.855555534362793,\n",
       "  0.8574073910713196,\n",
       "  0.8592592477798462,\n",
       "  0.8601852059364319,\n",
       "  0.8601852059364319,\n",
       "  0.8611111044883728,\n",
       "  0.8620370626449585,\n",
       "  0.864814817905426,\n",
       "  0.8666666746139526,\n",
       "  0.8666666746139526,\n",
       "  0.8675925731658936,\n",
       "  0.8703703880310059,\n",
       "  0.8703703880310059,\n",
       "  0.8722222447395325,\n",
       "  0.8722222447395325,\n",
       "  0.8731481432914734,\n",
       "  0.8731481432914734,\n",
       "  0.875,\n",
       "  0.8759258985519409,\n",
       "  0.8777777552604675,\n",
       "  0.8805555701255798],\n",
       " 'val_loss': [1.781653642654419,\n",
       "  1.7772771120071411,\n",
       "  1.772003412246704,\n",
       "  1.766471028327942,\n",
       "  1.7604396343231201,\n",
       "  1.7541377544403076,\n",
       "  1.7474194765090942,\n",
       "  1.739342451095581,\n",
       "  1.7309131622314453,\n",
       "  1.7207362651824951,\n",
       "  1.709167718887329,\n",
       "  1.6964691877365112,\n",
       "  1.678969144821167,\n",
       "  1.6587440967559814,\n",
       "  1.6329140663146973,\n",
       "  1.6071158647537231,\n",
       "  1.5765094757080078,\n",
       "  1.5463498830795288,\n",
       "  1.508636236190796,\n",
       "  1.4734535217285156,\n",
       "  1.4249281883239746,\n",
       "  1.3809527158737183,\n",
       "  1.337578535079956,\n",
       "  1.2943873405456543,\n",
       "  1.2518514394760132,\n",
       "  1.21005380153656,\n",
       "  1.1726539134979248,\n",
       "  1.1370457410812378,\n",
       "  1.1015756130218506,\n",
       "  1.0693678855895996,\n",
       "  1.0412653684616089,\n",
       "  1.0120679140090942,\n",
       "  0.9874608516693115,\n",
       "  0.9635793566703796,\n",
       "  0.9418404698371887,\n",
       "  0.923736035823822,\n",
       "  0.9056107401847839,\n",
       "  0.8869240880012512,\n",
       "  0.8679715991020203,\n",
       "  0.8544986844062805,\n",
       "  0.8397114276885986,\n",
       "  0.8254935145378113,\n",
       "  0.8122279047966003,\n",
       "  0.7980599999427795,\n",
       "  0.7861192226409912,\n",
       "  0.7768535614013672,\n",
       "  0.7651209235191345,\n",
       "  0.7553800940513611,\n",
       "  0.7449886202812195,\n",
       "  0.7376230955123901,\n",
       "  0.7285587191581726,\n",
       "  0.7204211950302124,\n",
       "  0.7113710045814514,\n",
       "  0.7043689489364624,\n",
       "  0.6964365839958191,\n",
       "  0.6888426542282104,\n",
       "  0.6816228628158569,\n",
       "  0.6745309233665466,\n",
       "  0.6681913137435913,\n",
       "  0.6609202027320862,\n",
       "  0.655596911907196,\n",
       "  0.6492955684661865,\n",
       "  0.643281102180481,\n",
       "  0.639123260974884,\n",
       "  0.6333121061325073,\n",
       "  0.628743052482605,\n",
       "  0.6241163611412048,\n",
       "  0.6197459101676941,\n",
       "  0.6154006123542786,\n",
       "  0.6100739240646362,\n",
       "  0.6063706278800964,\n",
       "  0.601905107498169,\n",
       "  0.5985370874404907,\n",
       "  0.5943543910980225,\n",
       "  0.5914098024368286,\n",
       "  0.5872308015823364,\n",
       "  0.5843818783760071,\n",
       "  0.5801646709442139,\n",
       "  0.5767709612846375,\n",
       "  0.5721734762191772,\n",
       "  0.5697387456893921,\n",
       "  0.5660514235496521,\n",
       "  0.5640451908111572,\n",
       "  0.5600422620773315,\n",
       "  0.5577119588851929,\n",
       "  0.5544232130050659,\n",
       "  0.5522993803024292,\n",
       "  0.5492392182350159,\n",
       "  0.5467356443405151,\n",
       "  0.5445255637168884,\n",
       "  0.5414301753044128,\n",
       "  0.5404917597770691,\n",
       "  0.5369110107421875,\n",
       "  0.5352872014045715,\n",
       "  0.5328494906425476,\n",
       "  0.5308458209037781,\n",
       "  0.5289904475212097,\n",
       "  0.5269144773483276,\n",
       "  0.5249451398849487,\n",
       "  0.5234038233757019],\n",
       " 'val_accuracy': [0.1666666716337204,\n",
       "  0.2916666567325592,\n",
       "  0.2916666567325592,\n",
       "  0.3083333373069763,\n",
       "  0.3166666626930237,\n",
       "  0.3166666626930237,\n",
       "  0.36666667461395264,\n",
       "  0.3333333432674408,\n",
       "  0.375,\n",
       "  0.3583333194255829,\n",
       "  0.4000000059604645,\n",
       "  0.4000000059604645,\n",
       "  0.4000000059604645,\n",
       "  0.4166666567325592,\n",
       "  0.4583333432674408,\n",
       "  0.46666666865348816,\n",
       "  0.5166666507720947,\n",
       "  0.5166666507720947,\n",
       "  0.5333333611488342,\n",
       "  0.550000011920929,\n",
       "  0.5833333134651184,\n",
       "  0.6000000238418579,\n",
       "  0.625,\n",
       "  0.625,\n",
       "  0.6333333253860474,\n",
       "  0.6583333611488342,\n",
       "  0.625,\n",
       "  0.6333333253860474,\n",
       "  0.6333333253860474,\n",
       "  0.6333333253860474,\n",
       "  0.6583333611488342,\n",
       "  0.675000011920929,\n",
       "  0.6583333611488342,\n",
       "  0.6833333373069763,\n",
       "  0.6916666626930237,\n",
       "  0.7083333134651184,\n",
       "  0.7166666388511658,\n",
       "  0.7333333492279053,\n",
       "  0.7333333492279053,\n",
       "  0.7333333492279053,\n",
       "  0.7416666746139526,\n",
       "  0.7416666746139526,\n",
       "  0.7416666746139526,\n",
       "  0.7416666746139526,\n",
       "  0.7416666746139526,\n",
       "  0.7416666746139526,\n",
       "  0.7416666746139526,\n",
       "  0.7416666746139526,\n",
       "  0.7416666746139526,\n",
       "  0.7416666746139526,\n",
       "  0.75,\n",
       "  0.7416666746139526,\n",
       "  0.7416666746139526,\n",
       "  0.75,\n",
       "  0.75,\n",
       "  0.75,\n",
       "  0.75,\n",
       "  0.7666666507720947,\n",
       "  0.7666666507720947,\n",
       "  0.7749999761581421,\n",
       "  0.7749999761581421,\n",
       "  0.7749999761581421,\n",
       "  0.7749999761581421,\n",
       "  0.7749999761581421,\n",
       "  0.7749999761581421,\n",
       "  0.7749999761581421,\n",
       "  0.7833333611488342,\n",
       "  0.7833333611488342,\n",
       "  0.800000011920929,\n",
       "  0.800000011920929,\n",
       "  0.7916666865348816,\n",
       "  0.7916666865348816,\n",
       "  0.7916666865348816,\n",
       "  0.7916666865348816,\n",
       "  0.7916666865348816,\n",
       "  0.800000011920929,\n",
       "  0.7916666865348816,\n",
       "  0.800000011920929,\n",
       "  0.800000011920929,\n",
       "  0.800000011920929,\n",
       "  0.8083333373069763,\n",
       "  0.8083333373069763,\n",
       "  0.8083333373069763,\n",
       "  0.8083333373069763,\n",
       "  0.8166666626930237,\n",
       "  0.8166666626930237,\n",
       "  0.8166666626930237,\n",
       "  0.8166666626930237,\n",
       "  0.824999988079071,\n",
       "  0.824999988079071,\n",
       "  0.824999988079071,\n",
       "  0.824999988079071,\n",
       "  0.824999988079071,\n",
       "  0.824999988079071,\n",
       "  0.824999988079071,\n",
       "  0.824999988079071,\n",
       "  0.824999988079071,\n",
       "  0.824999988079071,\n",
       "  0.824999988079071,\n",
       "  0.824999988079071]}"
      ]
     },
     "execution_count": 16,
     "metadata": {},
     "output_type": "execute_result"
    }
   ],
   "source": [
    "history.history"
   ]
  },
  {
   "cell_type": "markdown",
   "metadata": {},
   "source": [
    "Now visualize the loss over time using `history.history`: "
   ]
  },
  {
   "cell_type": "code",
   "execution_count": 17,
   "metadata": {},
   "outputs": [
    {
     "data": {
      "text/plain": [
       "[Text(0, 0.5, 'Accuracy'), Text(0.5, 0, 'Epoch')]"
      ]
     },
     "execution_count": 17,
     "metadata": {},
     "output_type": "execute_result"
    },
    {
     "data": {
      "image/png": "[encoded data removed]",
      "text/plain": [
       "<Figure size 864x576 with 1 Axes>"
      ]
     },
     "metadata": {
      "needs_background": "light"
     },
     "output_type": "display_data"
    },
    {
     "data": {
      "image/png": "[encoded data removed]",
      "text/plain": [
       "<Figure size 864x576 with 1 Axes>"
      ]
     },
     "metadata": {
      "needs_background": "light"
     },
     "output_type": "display_data"
    }
   ],
   "source": [
    "# The history.history[\"loss\"] entry is a dictionary with as many values as epochs that the\n",
    "# model was trained on. \n",
    "df_loss_acc = pd.DataFrame(history.history)\n",
    "df_loss= df_loss_acc[['loss','val_loss']]\n",
    "df_loss.rename(columns={'loss':'train','val_loss':'validation'},inplace=True)\n",
    "df_acc= df_loss_acc[['accuracy','val_accuracy']]\n",
    "df_acc.rename(columns={'accuracy':'train','val_accuracy':'validation'},inplace=True)\n",
    "df_loss.plot(title='Model loss',figsize=(12,8)).set(xlabel='Epoch',ylabel='Loss')\n",
    "df_acc.plot(title='Model Accuracy',figsize=(12,8)).set(xlabel='Epoch',ylabel='Accuracy')"
   ]
  },
  {
   "cell_type": "markdown",
   "metadata": {},
   "source": [
    "**Congratulations**! You've finished the assignment and built two models: One that recognizes  smiles, and another that recognizes SIGN language with almost 80% accuracy on the test set. In addition to that, you now also understand the applications of two Keras APIs: Sequential and Functional. Nicely done! \n",
    "\n",
    "By now, you know a bit about how the Functional API works and may have glimpsed the possibilities. In your next assignment, you'll really get a feel for its power when you get the opportunity to build a very deep ConvNet, using ResNets! "
   ]
  },
  {
   "cell_type": "markdown",
   "metadata": {},
   "source": [
    "<a name='6'></a>\n",
    "## 6 - Bibliography\n",
    "\n",
    "You're always encouraged to read the official documentation. To that end, you can find the docs for the Sequential and Functional APIs here: \n",
    "\n",
    "https://www.tensorflow.org/guide/keras/sequential_model\n",
    "\n",
    "https://www.tensorflow.org/guide/keras/functional"
   ]
  }
 ],
 "metadata": {
  "coursera": {
   "course_slug": "convolutional-neural-networks",
   "graded_item_id": "bwbJV",
   "launcher_item_id": "0TkXB"
  },
  "kernelspec": {
   "display_name": "Python 3",
   "language": "python",
   "name": "python3"
  },
  "language_info": {
   "codemirror_mode": {
    "name": "ipython",
    "version": 3
   },
   "file_extension": ".py",
   "mimetype": "text/x-python",
   "name": "python",
   "nbconvert_exporter": "python",
   "pygments_lexer": "ipython3",
   "version": "3.7.6"
  }
 },
 "nbformat": 4,
 "nbformat_minor": 2
}
